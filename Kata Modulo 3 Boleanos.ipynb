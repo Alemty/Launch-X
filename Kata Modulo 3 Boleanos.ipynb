{
 "cells": [
  {
   "cell_type": "code",
   "execution_count": 19,
   "metadata": {},
   "outputs": [
    {
     "name": "stdout",
     "output_type": "stream",
     "text": [
      "Un asteroide se dirige a la tierra, buscar comida y refugio.\n"
     ]
    }
   ],
   "source": [
    "Velocidad_del_asteroide = 49\n",
    "\n",
    "if Velocidad_del_asteroide >= 25:\n",
    "    print(\"Un asteroide se dirige a la tierra, buscar comida y refugio.\")\n",
    "else:\n",
    "    print(\"Por el momento no hay de que preocuparse.\")\n"
   ]
  },
  {
   "cell_type": "code",
   "execution_count": 22,
   "metadata": {},
   "outputs": [
    {
     "name": "stdout",
     "output_type": "stream",
     "text": [
      "Un asteroide acaba de ingresar a la atmosfera terrestre, lo pueden observar por el rayo de luz que emana.\n"
     ]
    }
   ],
   "source": [
    "Velocidad_del_asteroide = 19\n",
    "\n",
    "if Velocidad_del_asteroide > 20:\n",
    "    print(\"Un asteroide acaba de ingresar a la atmosfera terrestre, lo pueden observar por el rayo de luz que emana.\")\n",
    "elif Velocidad_del_asteroide == 20:\n",
    "    print(\"Un asteroide acaba de ingresar a la atmosfera terrestre, lo pueden observar por el rayo de luz que emana.\")\n",
    "else:\n",
    "    print(\"Por el momento no hay de que preocuparse.\")"
   ]
  },
  {
   "cell_type": "code",
   "execution_count": 39,
   "metadata": {},
   "outputs": [
    {
     "name": "stdout",
     "output_type": "stream",
     "text": [
      "No hay de que preocuparse.\n"
     ]
    }
   ],
   "source": [
    "Velocidad_del_asteroide = 26\n",
    "Tamano_del_asteroide = 40\n",
    "\n",
    "if Tamano_del_asteroide > 25 and Velocidad_del_asteroide > 25:\n",
    "    print(\"Un asteroide muy grande se dirije a al planeta a una gran velocidad!\")\n",
    "elif Velocidad_del_asteroide >= 20:\n",
    "    print(\"Un asteroide acaba de ingresar a la atmosfera terrestre, lo pueden observar por el rayo de luz que emana.\")\n",
    "elif Tamano_del_asteroide < 25:\n",
    "    print(\"No hay de que preocuparse.\")\n",
    "else:\n",
    "    print(\"No hay de que preocuparse\")\n",
    "    "
   ]
  },
  {
   "cell_type": "code",
   "execution_count": null,
   "metadata": {},
   "outputs": [],
   "source": []
  }
 ],
 "metadata": {
  "interpreter": {
   "hash": "c283d3c7405e48ed4e7f425e86e75f491ebd40ab9f99099f10de38d943289463"
  },
  "kernelspec": {
   "display_name": "Python 3.10.2 64-bit",
   "language": "python",
   "name": "python3"
  },
  "language_info": {
   "codemirror_mode": {
    "name": "ipython",
    "version": 3
   },
   "file_extension": ".py",
   "mimetype": "text/x-python",
   "name": "python",
   "nbconvert_exporter": "python",
   "pygments_lexer": "ipython3",
   "version": "3.10.2"
  },
  "orig_nbformat": 4
 },
 "nbformat": 4,
 "nbformat_minor": 2
}
