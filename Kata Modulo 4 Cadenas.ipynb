{
 "cells": [
  {
   "cell_type": "code",
   "execution_count": 1,
   "metadata": {},
   "outputs": [],
   "source": [
    "text = \"\"\"Interesting facts about the Moon. The Moon is Earth's only satellite. There are several interesting facts about the Moon and how it affects life here on Earth. \n",
    "On average, the Moon moves 4cm away from the Earth every year. This yearly drift is not significant enough to cause immediate effects on Earth. The highest daylight temperature of the Moon is 127 C.\"\"\"\n"
   ]
  },
  {
   "cell_type": "code",
   "execution_count": null,
   "metadata": {},
   "outputs": [],
   "source": [
    "textpart = text.split()\n",
    "textpart"
   ]
  },
  {
   "cell_type": "code",
   "execution_count": 9,
   "metadata": {},
   "outputs": [],
   "source": [
    "clave = [\"average\", \"temperature\", \"distance\",]"
   ]
  },
  {
   "cell_type": "code",
   "execution_count": null,
   "metadata": {},
   "outputs": [],
   "source": [
    "for sentence in textpart:\n",
    "    for clave in clave:\n",
    "        if clave in sentence:\n",
    "            print(sentence)\n",
    "            break"
   ]
  },
  {
   "cell_type": "code",
   "execution_count": null,
   "metadata": {},
   "outputs": [],
   "source": [
    "for sentence in textpart:\n",
    "    for clave in clave:\n",
    "        if clave in sentence:\n",
    "            print(sentence.replace('C', 'Celsuis'))\n",
    "            break"
   ]
  },
  {
   "cell_type": "code",
   "execution_count": 16,
   "metadata": {},
   "outputs": [],
   "source": [
    "name = \"Moon\"\n",
    "gravity = 0.00162\n",
    "planet = \"Earth\""
   ]
  },
  {
   "cell_type": "code",
   "execution_count": 21,
   "metadata": {},
   "outputs": [],
   "source": [
    "title = f'la gravedad en {name}'"
   ]
  },
  {
   "cell_type": "code",
   "execution_count": 25,
   "metadata": {},
   "outputs": [],
   "source": [
    "datos = f\"\"\"{'-'*80}\n",
    "Nombre del planeta: {planet}\n",
    "Gravedad en {name}: {gravity * 1000} m/s2 \"\"\""
   ]
  },
  {
   "cell_type": "code",
   "execution_count": 26,
   "metadata": {},
   "outputs": [
    {
     "name": "stdout",
     "output_type": "stream",
     "text": [
      "--------------------------------------------------------------------------------\n",
      "Nombre del planeta: Earth\n",
      "Gravedad en Moon: 1.6199999999999999 m/s2 \n"
     ]
    }
   ],
   "source": [
    "template = f\"\"\"{title.title()}\n",
    "{datos}\n",
    "\"\"\"\n",
    "print(datos)"
   ]
  },
  {
   "cell_type": "code",
   "execution_count": 27,
   "metadata": {},
   "outputs": [],
   "source": [
    "planet = 'Marte'\n",
    "gravity = 0.00143\n",
    "name = 'Ganimedes'"
   ]
  },
  {
   "cell_type": "code",
   "execution_count": 28,
   "metadata": {},
   "outputs": [
    {
     "name": "stdout",
     "output_type": "stream",
     "text": [
      "--------------------------------------------------------------------------------\n",
      "Nombre del planeta: Earth\n",
      "Gravedad en Moon: 1.6199999999999999 m/s2 \n"
     ]
    }
   ],
   "source": [
    "print(datos)"
   ]
  },
  {
   "cell_type": "code",
   "execution_count": 30,
   "metadata": {},
   "outputs": [
    {
     "name": "stdout",
     "output_type": "stream",
     "text": [
      "\n",
      "Datos de Gravedad sobre: Ganimedes\n",
      "\n",
      "Nombre del planeta: Marte\n",
      "Gravedad en Ganimedes: 1.4300000000000002 m/s2\n",
      "\n"
     ]
    }
   ],
   "source": [
    "nuevosdatos = \"\"\"\n",
    "Datos de Gravedad sobre: {name}\n",
    "\n",
    "Nombre del planeta: {planet}\n",
    "Gravedad en {name}: {gravity} m/s2\n",
    "\"\"\"\n",
    "print(nuevosdatos.format(name=name, planet=planet, gravity=gravity*1000))"
   ]
  },
  {
   "cell_type": "code",
   "execution_count": null,
   "metadata": {},
   "outputs": [],
   "source": []
  }
 ],
 "metadata": {
  "interpreter": {
   "hash": "c283d3c7405e48ed4e7f425e86e75f491ebd40ab9f99099f10de38d943289463"
  },
  "kernelspec": {
   "display_name": "Python 3.10.2 64-bit",
   "language": "python",
   "name": "python3"
  },
  "language_info": {
   "codemirror_mode": {
    "name": "ipython",
    "version": 3
   },
   "file_extension": ".py",
   "mimetype": "text/x-python",
   "name": "python",
   "nbconvert_exporter": "python",
   "pygments_lexer": "ipython3",
   "version": "3.10.2"
  },
  "orig_nbformat": 4
 },
 "nbformat": 4,
 "nbformat_minor": 2
}
