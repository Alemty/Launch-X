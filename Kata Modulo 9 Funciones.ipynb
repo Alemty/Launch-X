{
 "cells": [
  {
   "cell_type": "code",
   "execution_count": 16,
   "metadata": {},
   "outputs": [],
   "source": [
    "def generar_reporte(tanque_grande, tanque_mediano, tanque_chico):\n",
    "    promedio = (tanque_grande + tanque_mediano + tanque_chico) / 3\n",
    "    return f\"\"\"Reporte de combustible:\n",
    "    Promedio: {promedio}%\n",
    "    Tanque Grande: {tanque_grande}%\n",
    "    Tanque Mediano: {tanque_mediano}%\n",
    "    Tanque Chico: {tanque_chico}% \n",
    "    \"\"\""
   ]
  },
  {
   "cell_type": "code",
   "execution_count": 23,
   "metadata": {},
   "outputs": [
    {
     "name": "stdout",
     "output_type": "stream",
     "text": [
      "Reporte de combustible:\n",
      "    Promedio: 46.666666666666664%\n",
      "    Tanque Grande: 20%\n",
      "    Tanque Mediano: 50%\n",
      "    Tanque Chico: 70% \n",
      "    \n"
     ]
    }
   ],
   "source": [
    "print(generar_reporte(20, 50, 70))"
   ]
  },
  {
   "cell_type": "code",
   "execution_count": 24,
   "metadata": {},
   "outputs": [],
   "source": [
    "def promedio(values):\n",
    "    total = sum(values)\n",
    "    number_of_items = len(values)\n",
    "    return total / number_of_items"
   ]
  },
  {
   "cell_type": "code",
   "execution_count": 36,
   "metadata": {},
   "outputs": [
    {
     "data": {
      "text/plain": [
       "46"
      ]
     },
     "execution_count": 36,
     "metadata": {},
     "output_type": "execute_result"
    }
   ],
   "source": [
    "floor(promedio([20, 50, 70]))"
   ]
  },
  {
   "cell_type": "code",
   "execution_count": 47,
   "metadata": {},
   "outputs": [],
   "source": [
    "def generar_reporte(tanque_grande, tanque_mediano, tanque_chico):\n",
    "    return f\"\"\"Reporte de combustible:\n",
    "    Promedio: {promedio([tanque_grande, tanque_mediano, tanque_chico])}%\n",
    "    Tanque Grande: {tanque_grande}%\n",
    "    Tanque Mediano: {tanque_mediano}%\n",
    "    Tanque Chico: {tanque_chico}% \n",
    "    \"\"\""
   ]
  },
  {
   "cell_type": "code",
   "execution_count": 97,
   "metadata": {},
   "outputs": [
    {
     "name": "stdout",
     "output_type": "stream",
     "text": [
      "Reporte de combustible:\n",
      "    Promedio: 46.666666666666664%\n",
      "    Tanque Grande: 20%\n",
      "    Tanque Mediano: 50%\n",
      "    Tanque Chico: 70% \n",
      "    \n"
     ]
    }
   ],
   "source": [
    "print(generar_reporte(20, 50, 70))"
   ]
  },
  {
   "cell_type": "code",
   "execution_count": 56,
   "metadata": {},
   "outputs": [
    {
     "name": "stdout",
     "output_type": "stream",
     "text": [
      "\n",
      "    Mision a Marte\n",
      "    Tiempo de viaje: 65 minutos.\n",
      "    Combustible disponible: 500000 galones.\n",
      "    \n"
     ]
    }
   ],
   "source": [
    "def informe_mision(lanzamiento, tiempo_de_vuelo, destino, tanque_grande, tanque_mediano):\n",
    "    return f\"\"\"\n",
    "    Misión a {destino}\n",
    "    Tiempo de viaje: {lanzamiento + tiempo_de_vuelo} minutos.\n",
    "    Combustible disponible: {tanque_grande + tanque_mediano} galones.\n",
    "    \"\"\"\n",
    "\n",
    "print(informe_mision(14, 51, \"Marte\", 200000, 300000))"
   ]
  },
  {
   "cell_type": "code",
   "execution_count": 98,
   "metadata": {},
   "outputs": [
    {
     "name": "stdout",
     "output_type": "stream",
     "text": [
      "\n",
      "    Misión a Marte\n",
      "    Tiempo de viaje: 140 minutos\n",
      "    Combustible disponible: 500000 galones.\n",
      "    \n"
     ]
    }
   ],
   "source": [
    "def informe_mision(destino, *minutos, **reserva_de_combustible):\n",
    "    return f\"\"\"\n",
    "    Misión a {destino}\n",
    "    Tiempo de viaje: {sum(minutos)} minutos\n",
    "    Combustible disponible: {sum(reserva_de_combustible.values())} galones.\n",
    "    \"\"\"\n",
    "\n",
    "print(informe_mision(\"Marte\", 20, 50, 70, main=300000, external=200000))"
   ]
  },
  {
   "cell_type": "code",
   "execution_count": 100,
   "metadata": {},
   "outputs": [
    {
     "name": "stdout",
     "output_type": "stream",
     "text": [
      "\n",
      "    Misión a Marte\n",
      "    Tiempo de viaje: 73 minutos\n",
      "    Combustible disponible: 240000\n",
      "     En el tanque_grande quedan 150000 galones de combustible.\n",
      " En el tanque_mediano quedan 90000 galones de combustible.\n",
      "\n"
     ]
    }
   ],
   "source": [
    "def mission_report(destination, *minutes, **fuel_reservoirs):\n",
    "    main_report = f\"\"\"\n",
    "    Misión a {destination}\n",
    "    Tiempo de viaje: {sum(minutes)} minutos\n",
    "    Combustible disponible: {sum(fuel_reservoirs.values())}\n",
    "    \"\"\"\n",
    "    for tank_name, gallons in fuel_reservoirs.items():\n",
    "        main_report += f\" En el {tank_name} quedan {gallons} galones de combustible.\\n\"\n",
    "    return main_report\n",
    "\n",
    "print(mission_report(\"Marte\", 7, 11, 55, tanque_grande=150000,   tanque_mediano=90000))"
   ]
  },
  {
   "cell_type": "code",
   "execution_count": null,
   "metadata": {},
   "outputs": [],
   "source": []
  },
  {
   "cell_type": "code",
   "execution_count": null,
   "metadata": {},
   "outputs": [],
   "source": []
  }
 ],
 "metadata": {
  "interpreter": {
   "hash": "c283d3c7405e48ed4e7f425e86e75f491ebd40ab9f99099f10de38d943289463"
  },
  "kernelspec": {
   "display_name": "Python 3.10.2 64-bit",
   "language": "python",
   "name": "python3"
  },
  "language_info": {
   "codemirror_mode": {
    "name": "ipython",
    "version": 3
   },
   "file_extension": ".py",
   "mimetype": "text/x-python",
   "name": "python",
   "nbconvert_exporter": "python",
   "pygments_lexer": "ipython3",
   "version": "3.10.2"
  },
  "orig_nbformat": 4
 },
 "nbformat": 4,
 "nbformat_minor": 2
}
